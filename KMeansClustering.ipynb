import math

# Data input
X = [[20, 500], [40, 1000], [30, 800], [18, 300], [28, 1200], [35, 1400], [45, 1800]]

# Initial centroids
c1, c2 = [20, 500], [40, 1000]

# Run K-Means for up to 10 iterations or until centroids converge
for i in range(10):
    cluster1, cluster2 = [], []

    # Assign each point to the closest centroid
    for point in X:
        dist_c1 = math.sqrt((point[0] - c1[0])**2 + (point[1] - c1[1])**2)
        dist_c2 = math.sqrt((point[0] - c2[0])**2 + (point[1] - c2[1])**2)

        if dist_c1 < dist_c2:
            cluster1.append(point)
        else:
            cluster2.append(point)

    # Update centroids as the mean of the points in each cluster
    new_c1 = [sum(p[0] for p in cluster1) / len(cluster1), sum(p[1] for p in cluster1) / len(cluster1)]
    new_c2 = [sum(p[0] for p in cluster2) / len(cluster2), sum(p[1] for p in cluster2) / len(cluster2)]

    # Check for convergence (if centroids do not change significantly)
    if new_c1 == c1 and new_c2 == c2:
        print(f"Converged after iteration {i+1}")
        break

    c1, c2 = new_c1, new_c2

    # Print centroids and clusters for each iteration
    print("Iteration", i+1)
    print("Centroid 1:",c1)
    print("Centroid 2:",c2)
    print("Cluster 1:",cluster1)
    print("Cluster 2:",cluster2)
    print("\n")

# Output final centroids and clusters
print("\nFinal centroids:")
print("Centroid 1:",c1)
print("Centroid 2:",c2)
