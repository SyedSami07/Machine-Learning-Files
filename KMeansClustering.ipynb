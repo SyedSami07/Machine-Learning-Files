{
 "cells": [
  {
   "cell_type": "code",
   "execution_count": null,
   "id": "3e2ea1b5-91e2-4af9-858e-2406f2604812",
   "metadata": {},
   "outputs": [
    {
     "name": "stdout",
     "output_type": "stream",
     "text": [
      "Iteration 1\n",
      "Centroid 1: [19.0, 400.0]\n",
      "Centroid 2: [35.6, 1240.0]\n",
      "Cluster 1: [[20, 500], [18, 300]]\n",
      "Cluster 2: [[40, 1000], [30, 800], [28, 1200], [35, 1400], [45, 1800]]\n",
      "------------------------------\n",
      "Iteration 2\n",
      "Centroid 1: [22.666666666666668, 533.3333333333334]\n",
      "Centroid 2: [37.0, 1350.0]\n",
      "Cluster 1: [[20, 500], [30, 800], [18, 300]]\n",
      "Cluster 2: [[40, 1000], [28, 1200], [35, 1400], [45, 1800]]\n",
      "------------------------------\n",
      "Converged after iteration 3\n",
      "\n",
      "Final centroids:\n",
      "Centroid 1: [22.666666666666668, 533.3333333333334]\n",
      "Centroid 2: [37.0, 1350.0]\n"
     ]
    }
   ],
   "source": [
    "import math\n",
    "\n",
    "# Data input\n",
    "X = [[20, 500], [40, 1000], [30, 800], [18, 300], [28, 1200], [35, 1400], [45, 1800]]\n",
    "\n",
    "# Initial centroids\n",
    "c1, c2 = [20, 500], [40, 1000]\n",
    "\n",
    "# Run K-Means for up to 10 iterations or until centroids converge\n",
    "for i in range(10):\n",
    "    cluster1, cluster2 = [], []\n",
    "\n",
    "    # Assign each point to the closest centroid\n",
    "    for point in X:\n",
    "        dist_c1 = math.sqrt((point[0] - c1[0])**2 + (point[1] - c1[1])**2)\n",
    "        dist_c2 = math.sqrt((point[0] - c2[0])**2 + (point[1] - c2[1])**2)\n",
    "\n",
    "        if dist_c1 < dist_c2:\n",
    "            cluster1.append(point)\n",
    "        else:\n",
    "            cluster2.append(point)\n",
    "\n",
    "    # Update centroids as the mean of the points in each cluster\n",
    "    new_c1 = [sum(p[0] for p in cluster1) / len(cluster1), sum(p[1] for p in cluster1) / len(cluster1)]\n",
    "    new_c2 = [sum(p[0] for p in cluster2) / len(cluster2), sum(p[1] for p in cluster2) / len(cluster2)]\n",
    "\n",
    "    # Check for convergence (if centroids do not change significantly)\n",
    "    if new_c1 == c1 and new_c2 == c2:\n",
    "        print(f\"Converged after iteration {i+1}\")\n",
    "        break\n",
    "\n",
    "    c1, c2 = new_c1, new_c2\n",
    "\n",
    "    # Print centroids and clusters for each iteration\n",
    "    print(\"Iteration\", i+1)\n",
    "    print(\"Centroid 1:\",c1)\n",
    "    print(\"Centroid 2:\",c2)\n",
    "    print(\"Cluster 1:\",cluster1)\n",
    "    print(\"Cluster 2:\",cluster2)\n",
    "    print(\"\\n\")\n",
    "\n",
    "# Output final centroids and clusters\n",
    "print(\"\\nFinal centroids:\")\n",
    "print(\"Centroid 1:\",c1)\n",
    "print(\"Centroid 2:\",c2)\n"
   ]
  },
  {
   "cell_type": "code",
   "execution_count": null,
   "id": "1623fa1e-d873-4c8e-b391-882b8b19d140",
   "metadata": {},
   "outputs": [],
   "source": []
  }
 ],
 "metadata": {
  "kernelspec": {
   "display_name": "Python 3 (ipykernel)",
   "language": "python",
   "name": "python3"
  },
  "language_info": {
   "codemirror_mode": {
    "name": "ipython",
    "version": 3
   },
   "file_extension": ".py",
   "mimetype": "text/x-python",
   "name": "python",
   "nbconvert_exporter": "python",
   "pygments_lexer": "ipython3",
   "version": "3.12.4"
  }
 },
 "nbformat": 4,
 "nbformat_minor": 5
}
