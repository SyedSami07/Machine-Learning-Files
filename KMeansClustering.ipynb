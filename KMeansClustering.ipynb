{
 "cells": [
  {
   "cell_type": "code",
   "execution_count": 11,
   "id": "fa231735-1775-46bc-9058-b61f01087e57",
   "metadata": {
    "scrolled": true
   },
   "outputs": [
    {
     "name": "stdout",
     "output_type": "stream",
     "text": [
      "Centroid 1: [22.666666666666668, 533.3333333333334]\n",
      "Centroid 2: [37.0, 1350.0]\n",
      "Cluster 1 points: [[20, 500], [30, 800], [18, 300]]\n",
      "Cluster 2 points: [[40, 1000], [28, 1200], [35, 1400], [45, 1800]]\n"
     ]
    }
   ],
   "source": [
    "# Data input\n",
    "data = {\n",
    "    \"Age\": [20, 40, 30, 18, 28, 35, 45],\n",
    "    \"Amount\": [500, 1000, 800, 300, 1200, 1400, 1800],\n",
    "}\n",
    "X = [list(a) for a in zip(data[\"Age\"], data[\"Amount\"])]\n",
    "\n",
    "# Initial centroids\n",
    "c1 = [20, 500]\n",
    "c2 = [40, 1000]\n",
    "\n",
    "# K-Means algorithm\n",
    "for i in range(10):\n",
    "    cluster1 = []\n",
    "    cluster2 = []\n",
    "    \n",
    "    for point in X:\n",
    "        # Calculate distances to centroids\n",
    "        dist_to_c1 = sum((point[j] - c1[j]) ** 2 for j in range(len(point))) ** 0.5\n",
    "        dist_to_c2 = sum((point[j] - c2[j]) ** 2 for j in range(len(point))) ** 0.5\n",
    "        \n",
    "        # Assign points to the nearest centroid\n",
    "        if dist_to_c1 < dist_to_c2:\n",
    "            cluster1.append(point)\n",
    "        else:\n",
    "            cluster2.append(point)\n",
    "    \n",
    "    # Update centroids\n",
    "    if cluster1:\n",
    "        new_c1 = [sum(point[j] for point in cluster1) / len(cluster1) for j in range(len(c1))]\n",
    "    if cluster2:\n",
    "        new_c2 = [sum(point[j] for point in cluster2) / len(cluster2) for j in range(len(c2))]\n",
    "    \n",
    "    # Check for convergence\n",
    "    if new_c1 == c1 and new_c2 == c2:\n",
    "        break\n",
    "    c1, c2 = new_c1, new_c2\n",
    "\n",
    "# Output results\n",
    "print(\"Centroid 1:\", c1)\n",
    "print(\"Centroid 2:\", c2)\n",
    "print(\"Cluster 1 points:\", cluster1)\n",
    "print(\"Cluster 2 points:\", cluster2)\n"
   ]
  },
  {
   "cell_type": "code",
   "execution_count": null,
   "id": "552a9caa-6d78-4d78-b6b4-28f42e5900bf",
   "metadata": {},
   "outputs": [],
   "source": []
  },
  {
   "cell_type": "code",
   "execution_count": null,
   "id": "4258a5e1-6e35-44b9-bece-51d3b2181428",
   "metadata": {},
   "outputs": [],
   "source": []
  }
 ],
 "metadata": {
  "kernelspec": {
   "display_name": "Python 3 (ipykernel)",
   "language": "python",
   "name": "python3"
  },
  "language_info": {
   "codemirror_mode": {
    "name": "ipython",
    "version": 3
   },
   "file_extension": ".py",
   "mimetype": "text/x-python",
   "name": "python",
   "nbconvert_exporter": "python",
   "pygments_lexer": "ipython3",
   "version": "3.12.4"
  }
 },
 "nbformat": 4,
 "nbformat_minor": 5
}
